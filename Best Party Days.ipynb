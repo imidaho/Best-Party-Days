{
 "cells": [
  {
   "cell_type": "markdown",
   "metadata": {},
   "source": [
    "# Best Days to Host an Outdoor Party at the Code Louisville Office"
   ]
  },
  {
   "cell_type": "markdown",
   "metadata": {},
   "source": [
    "Libraries"
   ]
  },
  {
   "cell_type": "code",
   "execution_count": 2,
   "metadata": {},
   "outputs": [],
   "source": [
    "import requests\n",
    "import pandas as pd\n",
    "import sqlite3\n",
    "from datetime import date\n",
    "import calendar\n",
    "import matplotlib.pyplot as plt"
   ]
  },
  {
   "cell_type": "code",
   "execution_count": 3,
   "metadata": {},
   "outputs": [],
   "source": [
    "DS_API_KEY = \"00b999d3b38cbf3fd6f7c14b01244f79\"\n",
    "LAT = 38.2535367\n",
    "LONG = -85.7481863"
   ]
  },
  {
   "cell_type": "markdown",
   "metadata": {},
   "source": [
    "### loop to pull all dates to target for project"
   ]
  },
  {
   "cell_type": "code",
   "execution_count": 4,
   "metadata": {},
   "outputs": [
    {
     "name": "stdout",
     "output_type": "stream",
     "text": [
      "['2019-01-05', '2019-01-06', '2019-01-12', '2019-01-13', '2019-01-19', '2019-01-20', '2019-01-26', '2019-01-27', '2019-02-02', '2019-02-03', '2019-02-09', '2019-02-10', '2019-02-16', '2019-02-17', \"2019-02-18, President's Day\", '2019-02-23', '2019-02-24', '2019-03-02', '2019-03-03', '2019-03-09', '2019-03-10', '2019-03-16', '2019-03-17', '2019-03-23', '2019-03-24', '2019-03-30', '2019-03-31', '2019-04-06', '2019-04-07', '2019-04-13', '2019-04-14', '2019-04-20', '2019-04-21', '2019-04-27', '2019-04-28', '2019-05-04', '2019-05-05', '2019-05-11', '2019-05-12', '2019-05-18', '2019-05-19', '2019-05-25', '2019-05-26', '2019-05-27, Memorial Day', '2019-06-01', '2019-06-02', '2019-06-08', '2019-06-09', '2019-06-15', '2019-06-16', '2019-06-22', '2019-06-23', '2019-06-29', '2019-06-30', '2019-07-06', '2019-07-07', '2019-07-13', '2019-07-14', '2019-07-20', '2019-07-21', '2019-07-27', '2019-07-28', '2019-08-03', '2019-08-04', '2019-08-10', '2019-08-11', '2019-08-17', '2019-08-18', '2019-08-24', '2019-08-25', '2019-08-31', '2019-09-01', '2019-09-02, Labor Day', '2019-09-07', '2019-09-08', '2019-09-14', '2019-09-15', '2019-09-21', '2019-09-22', '2019-09-28', '2019-09-29', '2019-10-05', '2019-10-06', '2019-10-12', '2019-10-13', '2019-10-14, Columbus Day*', '2019-10-19', '2019-10-20', '2019-10-26', '2019-10-27', '2019-10-28, Veterans Day', '2019-11-02', '2019-11-03', '2019-11-09', '2019-11-10', '2019-11-16', '2019-11-17', '2019-11-23', '2019-11-24', '2019-11-30', '2019-12-01', '2019-12-07', '2019-12-08', '2019-12-14', '2019-12-15', '2019-12-21', '2019-12-22', '2019-12-28', '2019-12-29']\n"
     ]
    }
   ],
   "source": [
    "# Returns all Saturdays, Sundays, and Holiday Mondays in 2019\n",
    "potential_dates = []\n",
    "year = 2019\n",
    "c = calendar.TextCalendar(calendar.SUNDAY)\n",
    "for m in range(1,13):\n",
    "    for i in c.itermonthdays(year,m):\n",
    "        if i != 0:                                      #calendar constructs months with leading zeros (days belongng to the previous month)\n",
    "            day = date(year,m,i)\n",
    "            if day.weekday() == 0:\n",
    "                if m == 2 and 15<= i <= 21: #third Monday\n",
    "                    potential_dates.append(\"{}-0{}-{}, President's Day\".format(year,m,i))\n",
    "                if m == 5 and 25 <= i <=31: #last monday of May\n",
    "                    potential_dates.append(\"{}-0{}-{}, Memorial Day\".format(year,m,i))\n",
    "                if m == 9 and 1 <= i <=7: #1st Monday\n",
    "                    potential_dates.append(\"{}-0{}-0{}, Labor Day\".format(year,m,i))\n",
    "                if m == 10 and 8 <= i <=14: #2nd Monday\n",
    "                    potential_dates.append(\"{}-{}-{}, Columbus Day*\".format(year,m,i))\n",
    "                if m == 10 and 22 <= i <=28: #4th Monday\n",
    "                    potential_dates.append(\"{}-{}-{}, Veterans Day\".format(year,m,i))\n",
    "            if day.weekday() == 5 or day.weekday() == 6: #if its Saturday or Sunday\n",
    "                if m < 10:\n",
    "                    if i < 10:\n",
    "                        potential_dates.append(\"{}-0{}-0{}\".format(year,m,i))\n",
    "                    else:\n",
    "                        potential_dates.append(\"{}-0{}-{}\".format(year,m,i))\n",
    "                elif m > 9 and i <10:\n",
    "                    potential_dates.append(\"{}-{}-0{}\".format(year,m,i))\n",
    "                else:\n",
    "                    potential_dates.append(\"{}-{}-{}\".format(year,m,i))\n",
    " \n",
    "\n",
    "\n",
    "print(potential_dates)"
   ]
  },
  {
   "cell_type": "markdown",
   "metadata": {},
   "source": [
    "### API call with nested *Summary* data to SQL DB and .csv"
   ]
  },
  {
   "cell_type": "code",
   "execution_count": 5,
   "metadata": {},
   "outputs": [],
   "source": [
    "def request_loop(list,year,years_back):\n",
    "    starting_year = int(year)- years_back\n",
    "    ending_year = int(year)\n",
    "    mm_dd_list =[]\n",
    "    year_list =[]\n",
    "    #pull out list item by index\n",
    "    for target_day in list:\n",
    "        if len(target_day)> 10:\n",
    "            mm_dd = target_day[5:10]\n",
    "        else:\n",
    "            mm_dd = target_day[5:]\n",
    "        for year in range(starting_year, ending_year):\n",
    "            try:\n",
    "                dark_sky_request = requests.get(\"https://api.darksky.net/forecast/\" + DS_API_KEY + \"/\" + LAT +\",\" + LONG + \",\" + str(year) + \"-\" + mm_dd + \"T00:00:00?exclude=currently,flags,alerts\")\n",
    "                if target_day == list[0] and year == starting_year:\n",
    "                    weather_summary_dataframe = pd.DataFrame.from_dict(dark_sky_request.json()['daily']['data'], orient = 'columns')\n",
    "                else:\n",
    "                    weather_summary_dataframe = weather_summary_dataframe.append(pd.DataFrame.from_dict(dark_sky_request.json()['daily']['data'], orient = 'columns'))\n",
    "                mm_dd_list.append(mm_dd)\n",
    "                year_list.append(str(year))\n",
    "            except KeyError:\n",
    "                print(str(year)+ '-' + mm_dd)\n",
    "                continue\n",
    "    weather_summary_dataframe[\"MM_DD\"]= mm_dd_list\n",
    "    weather_summary_dataframe[\"Year\"]= year_list\n",
    "    weather_summary_dataframe.to_csv('weather_summary_dataframe.csv')\n",
    "    weather_summary_dataframe.to_sql(\"weather summary\",sqlite3.connect(\"Weather_summary.db\"), if_exists =\"replace\")\n",
    "    return weather_summary_dataframe"
   ]
  },
  {
   "cell_type": "markdown",
   "metadata": {},
   "source": [
    "# Option 1a:  Uncomment 'request_loop()' below to run the full loop.\n",
    "### Running the loop is completely optional.  The data has already been saved and provided in this repo.  \n",
    "# Option 1b:  Choose how many years of weather history you'd like the dataset to accumulate\n",
    "### Define 'years_back' variable as an integer between 1 and 9 \n",
    "#### (any more than that and I get charged by dark sky!)"
   ]
  },
  {
   "cell_type": "code",
   "execution_count": 6,
   "metadata": {},
   "outputs": [],
   "source": [
    "#how many years of weather history would you like to use to determine our best party day choices?\n",
    "years_back = 10\n",
    "#request_loop(potential_dates,2019,years_back)"
   ]
  },
  {
   "cell_type": "markdown",
   "metadata": {},
   "source": [
    "# Option 2:  Leave the above cell as is and run the remaining cells"
   ]
  },
  {
   "cell_type": "code",
   "execution_count": 7,
   "metadata": {},
   "outputs": [
    {
     "name": "stderr",
     "output_type": "stream",
     "text": [
      "C:\\Users\\james\\Anaconda3\\lib\\site-packages\\pandas\\core\\generic.py:2130: UserWarning: The spaces in these column names will not be changed. In pandas versions < 0.14, spaces were converted to underscores.\n",
      "  dtype=dtype)\n"
     ]
    }
   ],
   "source": [
    "#  command for adding csv to weather_summary.db\n",
    "weather_summary_dataframe = pd.read_csv('weather_summary_dataframe.csv')\n",
    "weather_summary_dataframe.to_sql(\"weather_summary\",sqlite3.connect(\"weather_summary.db\"), if_exists =\"replace\")\n"
   ]
  },
  {
   "cell_type": "markdown",
   "metadata": {},
   "source": [
    "#### Pulls needed counts of precipitation history data from SQL DB for visualization, groups counts by MM_DD"
   ]
  },
  {
   "cell_type": "code",
   "execution_count": 8,
   "metadata": {
    "scrolled": true
   },
   "outputs": [
    {
     "data": {
      "text/html": [
       "<div>\n",
       "<style scoped>\n",
       "    .dataframe tbody tr th:only-of-type {\n",
       "        vertical-align: middle;\n",
       "    }\n",
       "\n",
       "    .dataframe tbody tr th {\n",
       "        vertical-align: top;\n",
       "    }\n",
       "\n",
       "    .dataframe thead th {\n",
       "        text-align: right;\n",
       "    }\n",
       "</style>\n",
       "<table border=\"1\" class=\"dataframe\">\n",
       "  <thead>\n",
       "    <tr style=\"text-align: right;\">\n",
       "      <th></th>\n",
       "      <th>precipType</th>\n",
       "    </tr>\n",
       "    <tr>\n",
       "      <th>MM_DD</th>\n",
       "      <th></th>\n",
       "    </tr>\n",
       "  </thead>\n",
       "  <tbody>\n",
       "    <tr>\n",
       "      <th>01-05</th>\n",
       "      <td>2</td>\n",
       "    </tr>\n",
       "    <tr>\n",
       "      <th>01-06</th>\n",
       "      <td>1</td>\n",
       "    </tr>\n",
       "    <tr>\n",
       "      <th>01-12</th>\n",
       "      <td>6</td>\n",
       "    </tr>\n",
       "    <tr>\n",
       "      <th>01-13</th>\n",
       "      <td>4</td>\n",
       "    </tr>\n",
       "    <tr>\n",
       "      <th>01-19</th>\n",
       "      <td>2</td>\n",
       "    </tr>\n",
       "  </tbody>\n",
       "</table>\n",
       "</div>"
      ],
      "text/plain": [
       "       precipType\n",
       "MM_DD            \n",
       "01-05           2\n",
       "01-06           1\n",
       "01-12           6\n",
       "01-13           4\n",
       "01-19           2"
      ]
     },
     "execution_count": 8,
     "metadata": {},
     "output_type": "execute_result"
    }
   ],
   "source": [
    "precip_days = pd.read_sql_query(\"SELECT MM_DD, precipType FROM 'weather_summary' WHERE precipType != 'None'\", sqlite3.connect(\"weather_summary.db\"))\n",
    "precip_count = precip_days.groupby('MM_DD').count()\n",
    "precip_count.head()"
   ]
  },
  {
   "cell_type": "markdown",
   "metadata": {},
   "source": [
    "#### Pulls avg temps grouped by MM_DD"
   ]
  },
  {
   "cell_type": "code",
   "execution_count": 9,
   "metadata": {},
   "outputs": [
    {
     "data": {
      "text/html": [
       "<div>\n",
       "<style scoped>\n",
       "    .dataframe tbody tr th:only-of-type {\n",
       "        vertical-align: middle;\n",
       "    }\n",
       "\n",
       "    .dataframe tbody tr th {\n",
       "        vertical-align: top;\n",
       "    }\n",
       "\n",
       "    .dataframe thead th {\n",
       "        text-align: right;\n",
       "    }\n",
       "</style>\n",
       "<table border=\"1\" class=\"dataframe\">\n",
       "  <thead>\n",
       "    <tr style=\"text-align: right;\">\n",
       "      <th></th>\n",
       "      <th>apparentTemperatureHigh</th>\n",
       "      <th>apparentTemperatureLow</th>\n",
       "    </tr>\n",
       "    <tr>\n",
       "      <th>MM_DD</th>\n",
       "      <th></th>\n",
       "      <th></th>\n",
       "    </tr>\n",
       "  </thead>\n",
       "  <tbody>\n",
       "    <tr>\n",
       "      <th>01-05</th>\n",
       "      <td>35.192</td>\n",
       "      <td>18.625</td>\n",
       "    </tr>\n",
       "    <tr>\n",
       "      <th>01-06</th>\n",
       "      <td>30.790</td>\n",
       "      <td>16.188</td>\n",
       "    </tr>\n",
       "    <tr>\n",
       "      <th>01-12</th>\n",
       "      <td>41.668</td>\n",
       "      <td>24.698</td>\n",
       "    </tr>\n",
       "    <tr>\n",
       "      <th>01-13</th>\n",
       "      <td>34.858</td>\n",
       "      <td>22.158</td>\n",
       "    </tr>\n",
       "    <tr>\n",
       "      <th>01-19</th>\n",
       "      <td>41.471</td>\n",
       "      <td>29.881</td>\n",
       "    </tr>\n",
       "  </tbody>\n",
       "</table>\n",
       "</div>"
      ],
      "text/plain": [
       "       apparentTemperatureHigh  apparentTemperatureLow\n",
       "MM_DD                                                 \n",
       "01-05                   35.192                  18.625\n",
       "01-06                   30.790                  16.188\n",
       "01-12                   41.668                  24.698\n",
       "01-13                   34.858                  22.158\n",
       "01-19                   41.471                  29.881"
      ]
     },
     "execution_count": 9,
     "metadata": {},
     "output_type": "execute_result"
    }
   ],
   "source": [
    "hi_low_days = pd.read_sql_query(\"SELECT MM_DD, apparentTemperatureHigh, apparentTemperatureLow FROM 'weather_summary'\",sqlite3.connect(\"weather_summary.db\"))\n",
    "avg_hi_low_days = hi_low_days.groupby('MM_DD').mean()\n",
    "avg_hi_low_days.head()"
   ]
  },
  {
   "cell_type": "markdown",
   "metadata": {},
   "source": [
    "#### Merges Avg temps with precip counts"
   ]
  },
  {
   "cell_type": "code",
   "execution_count": 10,
   "metadata": {},
   "outputs": [
    {
     "data": {
      "text/html": [
       "<div>\n",
       "<style scoped>\n",
       "    .dataframe tbody tr th:only-of-type {\n",
       "        vertical-align: middle;\n",
       "    }\n",
       "\n",
       "    .dataframe tbody tr th {\n",
       "        vertical-align: top;\n",
       "    }\n",
       "\n",
       "    .dataframe thead th {\n",
       "        text-align: right;\n",
       "    }\n",
       "</style>\n",
       "<table border=\"1\" class=\"dataframe\">\n",
       "  <thead>\n",
       "    <tr style=\"text-align: right;\">\n",
       "      <th></th>\n",
       "      <th>apparentTemperatureHigh</th>\n",
       "      <th>apparentTemperatureLow</th>\n",
       "      <th>precipType</th>\n",
       "    </tr>\n",
       "    <tr>\n",
       "      <th>MM_DD</th>\n",
       "      <th></th>\n",
       "      <th></th>\n",
       "      <th></th>\n",
       "    </tr>\n",
       "  </thead>\n",
       "  <tbody>\n",
       "    <tr>\n",
       "      <th>01-05</th>\n",
       "      <td>35.192</td>\n",
       "      <td>18.625</td>\n",
       "      <td>2</td>\n",
       "    </tr>\n",
       "    <tr>\n",
       "      <th>01-06</th>\n",
       "      <td>30.790</td>\n",
       "      <td>16.188</td>\n",
       "      <td>1</td>\n",
       "    </tr>\n",
       "    <tr>\n",
       "      <th>01-12</th>\n",
       "      <td>41.668</td>\n",
       "      <td>24.698</td>\n",
       "      <td>6</td>\n",
       "    </tr>\n",
       "    <tr>\n",
       "      <th>01-13</th>\n",
       "      <td>34.858</td>\n",
       "      <td>22.158</td>\n",
       "      <td>4</td>\n",
       "    </tr>\n",
       "    <tr>\n",
       "      <th>01-19</th>\n",
       "      <td>41.471</td>\n",
       "      <td>29.881</td>\n",
       "      <td>2</td>\n",
       "    </tr>\n",
       "  </tbody>\n",
       "</table>\n",
       "</div>"
      ],
      "text/plain": [
       "       apparentTemperatureHigh  apparentTemperatureLow  precipType\n",
       "MM_DD                                                             \n",
       "01-05                   35.192                  18.625           2\n",
       "01-06                   30.790                  16.188           1\n",
       "01-12                   41.668                  24.698           6\n",
       "01-13                   34.858                  22.158           4\n",
       "01-19                   41.471                  29.881           2"
      ]
     },
     "execution_count": 10,
     "metadata": {},
     "output_type": "execute_result"
    }
   ],
   "source": [
    "#avg_days = avg_hi_days.merge(avg_low_days, on ='MM_DD')\n",
    "avg_days_precip_count = avg_hi_low_days.merge(precip_count, on ='MM_DD')\n",
    "avg_days_precip_count.head()"
   ]
  },
  {
   "cell_type": "markdown",
   "metadata": {},
   "source": [
    "### Option 1:  Choose your ideal temp range (in ℉) below \n",
    "### OR\n",
    "### Option 2:  Run the cell below as is"
   ]
  },
  {
   "cell_type": "code",
   "execution_count": 40,
   "metadata": {},
   "outputs": [],
   "source": [
    "max_high_temp = 80 \n",
    "min_low_temp = 50"
   ]
  },
  {
   "cell_type": "markdown",
   "metadata": {},
   "source": [
    "#### Filters out Average Temps by 'max_high_temp', and 'min_low_temp'"
   ]
  },
  {
   "cell_type": "code",
   "execution_count": 41,
   "metadata": {
    "scrolled": true
   },
   "outputs": [
    {
     "data": {
      "text/html": [
       "<div>\n",
       "<style scoped>\n",
       "    .dataframe tbody tr th:only-of-type {\n",
       "        vertical-align: middle;\n",
       "    }\n",
       "\n",
       "    .dataframe tbody tr th {\n",
       "        vertical-align: top;\n",
       "    }\n",
       "\n",
       "    .dataframe thead th {\n",
       "        text-align: right;\n",
       "    }\n",
       "</style>\n",
       "<table border=\"1\" class=\"dataframe\">\n",
       "  <thead>\n",
       "    <tr style=\"text-align: right;\">\n",
       "      <th></th>\n",
       "      <th>apparentTemperatureHigh</th>\n",
       "      <th>apparentTemperatureLow</th>\n",
       "      <th>precipType</th>\n",
       "    </tr>\n",
       "    <tr>\n",
       "      <th>MM_DD</th>\n",
       "      <th></th>\n",
       "      <th></th>\n",
       "      <th></th>\n",
       "    </tr>\n",
       "  </thead>\n",
       "  <tbody>\n",
       "    <tr>\n",
       "      <th>04-13</th>\n",
       "      <td>73.729</td>\n",
       "      <td>52.471</td>\n",
       "      <td>2</td>\n",
       "    </tr>\n",
       "    <tr>\n",
       "      <th>04-14</th>\n",
       "      <td>71.516</td>\n",
       "      <td>52.751</td>\n",
       "      <td>5</td>\n",
       "    </tr>\n",
       "    <tr>\n",
       "      <th>04-27</th>\n",
       "      <td>69.530</td>\n",
       "      <td>52.371</td>\n",
       "      <td>6</td>\n",
       "    </tr>\n",
       "    <tr>\n",
       "      <th>04-28</th>\n",
       "      <td>70.164</td>\n",
       "      <td>52.221</td>\n",
       "      <td>7</td>\n",
       "    </tr>\n",
       "    <tr>\n",
       "      <th>05-04</th>\n",
       "      <td>71.899</td>\n",
       "      <td>53.745</td>\n",
       "      <td>6</td>\n",
       "    </tr>\n",
       "  </tbody>\n",
       "</table>\n",
       "</div>"
      ],
      "text/plain": [
       "       apparentTemperatureHigh  apparentTemperatureLow  precipType\n",
       "MM_DD                                                             \n",
       "04-13                   73.729                  52.471           2\n",
       "04-14                   71.516                  52.751           5\n",
       "04-27                   69.530                  52.371           6\n",
       "04-28                   70.164                  52.221           7\n",
       "05-04                   71.899                  53.745           6"
      ]
     },
     "execution_count": 41,
     "metadata": {},
     "output_type": "execute_result"
    }
   ],
   "source": [
    "ideal_days = avg_days_precip_count.loc[(avg_days_precip_count.apparentTemperatureHigh < max_high_temp) & (avg_days_precip_count.apparentTemperatureLow > min_low_temp)] \n",
    "ideal_days.head()"
   ]
  },
  {
   "cell_type": "code",
   "execution_count": 42,
   "metadata": {
    "scrolled": false
   },
   "outputs": [
    {
     "data": {
      "image/png": "[encoded data removed]",
      "text/plain": [
       "<Figure size 1152x522 with 1 Axes>"
      ]
     },
     "metadata": {
      "needs_background": "light"
     },
     "output_type": "display_data"
    },
    {
     "data": {
      "image/png": "[encoded data removed]",
      "text/plain": [
       "<Figure size 1152x306 with 1 Axes>"
      ]
     },
     "metadata": {
      "needs_background": "light"
     },
     "output_type": "display_data"
    }
   ],
   "source": [
    "# determines ticks based on desired temp range\n",
    "temp_range_yticks =[]\n",
    "for num in range(min_low_temp, (max_high_temp+1)):\n",
    "        temp_range_yticks.append(num)\n",
    "# determines ticks based on desired years of weather history\n",
    "precip_yticks=[]\n",
    "for num in range(years_back+1):\n",
    "    precip_yticks.append(num)\n",
    "\n",
    "plt.figure(figsize=(len(ideal_days), 7.25))\n",
    "plt.title(\"Recommended 2019 Outdoor Party Days\", fontsize = 14)\n",
    "plt.xlabel(\"Recommended Dates\", fontsize = 12)\n",
    "plt.ylabel(\"Average Temp Range for Past \" + str(years_back) + \" Years\", fontsize = 12)\n",
    "plt.yticks(temp_range_yticks)\n",
    "plt.ylim(min_low_temp, max_high_temp)\n",
    "plt.bar(ideal_days.index, ideal_days.apparentTemperatureHigh, color = \"green\", label='Avg Temp Range')\n",
    "plt.bar(ideal_days.index, ideal_days.apparentTemperatureLow, color = \"white\")# 'white' hides low bars, thereby giving the desired 'floating bar' effect I was shooting for.\n",
    "plt.show()\n",
    "\n",
    "plt.figure(figsize=(len(ideal_days), 4.25))\n",
    "plt.title(\"Recommended 2019 Outdoor Party Days Historical Precipitation Frequency\")\n",
    "plt.xlabel(\"Recommended Dates\", fontsize = 12)\n",
    "plt.ylabel(\"Precipitation Events Over Past \"+ str(years_back) + \" Years\", fontsize = 12)\n",
    "plt.yticks(precip_yticks)\n",
    "plt.ylim(0,years_back)\n",
    "plt.bar(ideal_days.index, ideal_days.precipType, color = \"blue\")\n",
    "plt.show()\n"
   ]
  }
 ],
 "metadata": {
  "kernelspec": {
   "display_name": "Python 3",
   "language": "python",
   "name": "python3"
  },
  "language_info": {
   "codemirror_mode": {
    "name": "ipython",
    "version": 3
   },
   "file_extension": ".py",
   "mimetype": "text/x-python",
   "name": "python",
   "nbconvert_exporter": "python",
   "pygments_lexer": "ipython3",
   "version": "3.7.1"
  }
 },
 "nbformat": 4,
 "nbformat_minor": 2
}
